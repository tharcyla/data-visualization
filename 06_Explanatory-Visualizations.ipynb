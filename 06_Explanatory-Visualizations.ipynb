{
 "cells": [
  {
   "cell_type": "markdown",
   "id": "48d245b6",
   "metadata": {},
   "source": [
    "# Explanatory Visualizations\n",
    "---\n",
    "\n",
    "## Overview\n",
    "In this lesson, we will learn about explanatory analysis which is about conveying and communicating the findings. You will learn:\n",
    "\n",
    "- Steps to tell a story using data\n",
    "- Tools and techniques to polish plots\n",
    "- Presenting findings using a slide deck\n",
    "- Getting and using feedback\n",
    "\n",
    "The previous three lessons in the course have been focused on expl**o**ratory analyses. In phases with exploratory visualizations, the primary audience for the visuals will be you, the analyst. The plots that have been created and demonstrated haven't been particularly polished, just descriptive enough for you to gain insights into the data.\n",
    "\n",
    "This lesson is focused on taking those insights and creating expl**an**atory analyses. Here, your audience will be broader: your goal will be to convey your findings to other people who don't have the level of hands-on experience with the data as you. Visualizations under this banner should be focused on telling a specific story that you want to convey to that particular audience. Many times, these visualizations evolve from visuals created during the exploratory process, just polished up to highlight the specific intended insights. These highlights might change depending on the audience you're presenting to. You'll revisit those design concepts from earlier in the course to make your plots informative not just for yourself, but also compelling and understandable for others.\n",
    "\n",
    "## Tell a Story\n",
    "Telling stories with data follows these steps:\n",
    "\n",
    "- Start with a Question\n",
    "- Repetition is a Good Thing\n",
    "- Highlight the Answer\n",
    "- Call Your Audience To Action\n",
    "\n",
    "### Data Storytelling Practice"
   ]
  },
  {
   "cell_type": "code",
   "execution_count": 1,
   "id": "bfb9bcd4",
   "metadata": {},
   "outputs": [],
   "source": [
    "import numpy as np\n",
    "import pandas as pd\n",
    "import matplotlib.pyplot as plt\n",
    "import matplotlib.patches as mpatches\n",
    "import matplotlib.ticker as mtick\n",
    "import seaborn as sns\n",
    "\n",
    "%matplotlib inline"
   ]
  },
  {
   "cell_type": "code",
   "execution_count": 2,
   "id": "216c4650",
   "metadata": {},
   "outputs": [
    {
     "data": {
      "text/html": [
       "<div>\n",
       "<style scoped>\n",
       "    .dataframe tbody tr th:only-of-type {\n",
       "        vertical-align: middle;\n",
       "    }\n",
       "\n",
       "    .dataframe tbody tr th {\n",
       "        vertical-align: top;\n",
       "    }\n",
       "\n",
       "    .dataframe thead th {\n",
       "        text-align: right;\n",
       "    }\n",
       "</style>\n",
       "<table border=\"1\" class=\"dataframe\">\n",
       "  <thead>\n",
       "    <tr style=\"text-align: right;\">\n",
       "      <th></th>\n",
       "      <th>Feeling</th>\n",
       "      <th>Percent</th>\n",
       "      <th>Feeling.1</th>\n",
       "      <th>Percent.1</th>\n",
       "    </tr>\n",
       "  </thead>\n",
       "  <tbody>\n",
       "    <tr>\n",
       "      <th>0</th>\n",
       "      <td>Bored</td>\n",
       "      <td>11</td>\n",
       "      <td>Bored</td>\n",
       "      <td>12</td>\n",
       "    </tr>\n",
       "    <tr>\n",
       "      <th>1</th>\n",
       "      <td>Not Great</td>\n",
       "      <td>5</td>\n",
       "      <td>Not Great</td>\n",
       "      <td>6</td>\n",
       "    </tr>\n",
       "    <tr>\n",
       "      <th>2</th>\n",
       "      <td>OK</td>\n",
       "      <td>40</td>\n",
       "      <td>OK</td>\n",
       "      <td>14</td>\n",
       "    </tr>\n",
       "    <tr>\n",
       "      <th>3</th>\n",
       "      <td>Kind of Interested</td>\n",
       "      <td>25</td>\n",
       "      <td>Kind of Interested</td>\n",
       "      <td>30</td>\n",
       "    </tr>\n",
       "    <tr>\n",
       "      <th>4</th>\n",
       "      <td>Excited</td>\n",
       "      <td>19</td>\n",
       "      <td>Excited</td>\n",
       "      <td>38</td>\n",
       "    </tr>\n",
       "  </tbody>\n",
       "</table>\n",
       "</div>"
      ],
      "text/plain": [
       "              Feeling  Percent           Feeling.1  Percent.1\n",
       "0               Bored       11               Bored         12\n",
       "1           Not Great        5           Not Great          6\n",
       "2                  OK       40                  OK         14\n",
       "3  Kind of Interested       25  Kind of Interested         30\n",
       "4             Excited       19             Excited         38"
      ]
     },
     "execution_count": 2,
     "metadata": {},
     "output_type": "execute_result"
    }
   ],
   "source": [
    "df = pd.read_csv('support-files/06_Explanatory-Vis/data-storytelling-practice.csv', sep=';')\n",
    "df.head()"
   ]
  },
  {
   "cell_type": "code",
   "execution_count": 3,
   "id": "1704886c",
   "metadata": {},
   "outputs": [
    {
     "data": {
      "text/html": [
       "<div>\n",
       "<style scoped>\n",
       "    .dataframe tbody tr th:only-of-type {\n",
       "        vertical-align: middle;\n",
       "    }\n",
       "\n",
       "    .dataframe tbody tr th {\n",
       "        vertical-align: top;\n",
       "    }\n",
       "\n",
       "    .dataframe thead th {\n",
       "        text-align: right;\n",
       "    }\n",
       "</style>\n",
       "<table border=\"1\" class=\"dataframe\">\n",
       "  <thead>\n",
       "    <tr style=\"text-align: right;\">\n",
       "      <th></th>\n",
       "      <th>Feeling</th>\n",
       "      <th>Before</th>\n",
       "      <th>Feeling.1</th>\n",
       "      <th>After</th>\n",
       "    </tr>\n",
       "  </thead>\n",
       "  <tbody>\n",
       "    <tr>\n",
       "      <th>0</th>\n",
       "      <td>Bored</td>\n",
       "      <td>11</td>\n",
       "      <td>Bored</td>\n",
       "      <td>12</td>\n",
       "    </tr>\n",
       "    <tr>\n",
       "      <th>1</th>\n",
       "      <td>Not Great</td>\n",
       "      <td>5</td>\n",
       "      <td>Not Great</td>\n",
       "      <td>6</td>\n",
       "    </tr>\n",
       "    <tr>\n",
       "      <th>2</th>\n",
       "      <td>OK</td>\n",
       "      <td>40</td>\n",
       "      <td>OK</td>\n",
       "      <td>14</td>\n",
       "    </tr>\n",
       "    <tr>\n",
       "      <th>3</th>\n",
       "      <td>Kind of Interested</td>\n",
       "      <td>25</td>\n",
       "      <td>Kind of Interested</td>\n",
       "      <td>30</td>\n",
       "    </tr>\n",
       "    <tr>\n",
       "      <th>4</th>\n",
       "      <td>Excited</td>\n",
       "      <td>19</td>\n",
       "      <td>Excited</td>\n",
       "      <td>38</td>\n",
       "    </tr>\n",
       "  </tbody>\n",
       "</table>\n",
       "</div>"
      ],
      "text/plain": [
       "              Feeling  Before           Feeling.1  After\n",
       "0               Bored      11               Bored     12\n",
       "1           Not Great       5           Not Great      6\n",
       "2                  OK      40                  OK     14\n",
       "3  Kind of Interested      25  Kind of Interested     30\n",
       "4             Excited      19             Excited     38"
      ]
     },
     "execution_count": 3,
     "metadata": {},
     "output_type": "execute_result"
    }
   ],
   "source": [
    "# copy the orginal dataframe before \n",
    "# making changes to it\n",
    "df2 = df.copy()\n",
    "df2 = df.rename(columns={'Percent': 'Before', 'Percent.1': 'After'})\n",
    "df2.head(10)"
   ]
  },
  {
   "cell_type": "code",
   "execution_count": 4,
   "id": "29042439",
   "metadata": {},
   "outputs": [
    {
     "data": {
      "text/html": [
       "<div>\n",
       "<style scoped>\n",
       "    .dataframe tbody tr th:only-of-type {\n",
       "        vertical-align: middle;\n",
       "    }\n",
       "\n",
       "    .dataframe tbody tr th {\n",
       "        vertical-align: top;\n",
       "    }\n",
       "\n",
       "    .dataframe thead th {\n",
       "        text-align: right;\n",
       "    }\n",
       "</style>\n",
       "<table border=\"1\" class=\"dataframe\">\n",
       "  <thead>\n",
       "    <tr style=\"text-align: right;\">\n",
       "      <th></th>\n",
       "      <th>Feeling</th>\n",
       "      <th>id</th>\n",
       "      <th>Percent</th>\n",
       "    </tr>\n",
       "  </thead>\n",
       "  <tbody>\n",
       "    <tr>\n",
       "      <th>0</th>\n",
       "      <td>Bored</td>\n",
       "      <td>Before</td>\n",
       "      <td>11</td>\n",
       "    </tr>\n",
       "    <tr>\n",
       "      <th>1</th>\n",
       "      <td>Not Great</td>\n",
       "      <td>Before</td>\n",
       "      <td>5</td>\n",
       "    </tr>\n",
       "    <tr>\n",
       "      <th>2</th>\n",
       "      <td>OK</td>\n",
       "      <td>Before</td>\n",
       "      <td>40</td>\n",
       "    </tr>\n",
       "    <tr>\n",
       "      <th>3</th>\n",
       "      <td>Kind of Interested</td>\n",
       "      <td>Before</td>\n",
       "      <td>25</td>\n",
       "    </tr>\n",
       "    <tr>\n",
       "      <th>4</th>\n",
       "      <td>Excited</td>\n",
       "      <td>Before</td>\n",
       "      <td>19</td>\n",
       "    </tr>\n",
       "    <tr>\n",
       "      <th>5</th>\n",
       "      <td>Bored</td>\n",
       "      <td>After</td>\n",
       "      <td>12</td>\n",
       "    </tr>\n",
       "    <tr>\n",
       "      <th>6</th>\n",
       "      <td>Not Great</td>\n",
       "      <td>After</td>\n",
       "      <td>6</td>\n",
       "    </tr>\n",
       "    <tr>\n",
       "      <th>7</th>\n",
       "      <td>OK</td>\n",
       "      <td>After</td>\n",
       "      <td>14</td>\n",
       "    </tr>\n",
       "    <tr>\n",
       "      <th>8</th>\n",
       "      <td>Kind of Interested</td>\n",
       "      <td>After</td>\n",
       "      <td>30</td>\n",
       "    </tr>\n",
       "    <tr>\n",
       "      <th>9</th>\n",
       "      <td>Excited</td>\n",
       "      <td>After</td>\n",
       "      <td>38</td>\n",
       "    </tr>\n",
       "  </tbody>\n",
       "</table>\n",
       "</div>"
      ],
      "text/plain": [
       "              Feeling      id  Percent\n",
       "0               Bored  Before       11\n",
       "1           Not Great  Before        5\n",
       "2                  OK  Before       40\n",
       "3  Kind of Interested  Before       25\n",
       "4             Excited  Before       19\n",
       "5               Bored   After       12\n",
       "6           Not Great   After        6\n",
       "7                  OK   After       14\n",
       "8  Kind of Interested   After       30\n",
       "9             Excited   After       38"
      ]
     },
     "execution_count": 4,
     "metadata": {},
     "output_type": "execute_result"
    }
   ],
   "source": [
    "# use pd.melt to transform the dataframe\n",
    "# in a way that's easier to work with\n",
    "df2 = pd.melt(df2, id_vars=['Feeling'], value_vars=['Before', 'After'], value_name='Percent', var_name='id')\n",
    "df2.head(10)"
   ]
  },
  {
   "cell_type": "code",
   "execution_count": 5,
   "id": "6606515f",
   "metadata": {},
   "outputs": [],
   "source": [
    "# change the Feeling classes to Categorical dtype\n",
    "# this way, in visualizations, it'll always be ordered\n",
    "# by the categories\n",
    "feeling_classes = ['Bored', 'Not Great', 'OK', 'Kind of Interested', 'Excited']\n",
    "feeling_classes = pd.api.types.CategoricalDtype(ordered=True, categories=feeling_classes)\n",
    "df2['Feeling'] = df2['Feeling'].astype(feeling_classes)"
   ]
  },
  {
   "cell_type": "code",
   "execution_count": 6,
   "id": "aee8d464",
   "metadata": {},
   "outputs": [
    {
     "data": {
      "image/png": "[encoded data removed]",
      "text/plain": [
       "<Figure size 432x288 with 1 Axes>"
      ]
     },
     "metadata": {
      "needs_background": "light"
     },
     "output_type": "display_data"
    }
   ],
   "source": [
    "# first attempt at making a bar chart, a stacked horizontal bar chart\n",
    "# here, the y axis shows each feeling category\n",
    "# we can see that after the class, students are more\n",
    "# positive towards science\n",
    "# but the chart still could use a few tweks, like \n",
    "# including the percentages in each bar\n",
    "bar1 = sns.barplot(data=df, y='Feeling.1', x='Percent.1', color=sns.color_palette('Pastel1')[0])\n",
    "bar2 = sns.barplot(data=df, y='Feeling', x='Percent', color=sns.color_palette('Pastel1')[1])\n",
    "\n",
    "top_bar = mpatches.Patch(color=sns.color_palette('Pastel1')[0], label='After')\n",
    "bottom_bar = mpatches.Patch(color=sns.color_palette('Pastel1')[1], label='Before')\n",
    "plt.legend(handles=[top_bar, bottom_bar]);"
   ]
  },
  {
   "cell_type": "code",
   "execution_count": 7,
   "id": "9e1cb07e",
   "metadata": {},
   "outputs": [
    {
     "data": {
      "image/png": "[encoded data removed]",
      "text/plain": [
       "<Figure size 432x288 with 1 Axes>"
      ]
     },
     "metadata": {
      "needs_background": "light"
     },
     "output_type": "display_data"
    }
   ],
   "source": [
    "# plotting a chart with the same data, but\n",
    "# with a regular stacked bar chart\n",
    "bar1 = sns.barplot(data=df, x='Feeling.1', y='Percent.1', color=sns.color_palette('Pastel1')[0])\n",
    "bar2 = sns.barplot(data=df, x='Feeling', y='Percent', color=sns.color_palette('Pastel1')[1])\n",
    "\n",
    "top_bar = mpatches.Patch(color=sns.color_palette('Pastel1')[0], label='After')\n",
    "bottom_bar = mpatches.Patch(color=sns.color_palette('Pastel1')[1], label='Before')\n",
    "plt.legend(handles=[top_bar, bottom_bar])\n",
    "plt.xticks(rotation=15);"
   ]
  },
  {
   "cell_type": "code",
   "execution_count": 8,
   "id": "72496a17",
   "metadata": {},
   "outputs": [
    {
     "data": {
      "image/png": "[encoded data removed]",
      "text/plain": [
       "<Figure size 432x288 with 1 Axes>"
      ]
     },
     "metadata": {
      "needs_background": "light"
     },
     "output_type": "display_data"
    }
   ],
   "source": [
    "# trying different things\n",
    "# didn't like this one, though\n",
    "bar3 = sns.barplot(data=df2, x='id', y='Percent', hue='Feeling')"
   ]
  },
  {
   "cell_type": "markdown",
   "id": "e9b9df24",
   "metadata": {},
   "source": [
    "> Note: [Discussion](https://stackoverflow.com/questions/34917727/stacked-bar-plot-by-grouped-data-with-pandas) on StackOverflow that helped me create the chart like the one below."
   ]
  },
  {
   "cell_type": "code",
   "execution_count": 9,
   "id": "eda44f8d",
   "metadata": {},
   "outputs": [
    {
     "data": {
      "image/png": "[encoded data removed]",
      "text/plain": [
       "<Figure size 432x288 with 1 Axes>"
      ]
     },
     "metadata": {
      "needs_background": "light"
     },
     "output_type": "display_data"
    }
   ],
   "source": [
    "# instead of using the Feeling classes, \n",
    "# I tried using just two bars: Before and After\n",
    "# This chart needs a lot of adjustments before\n",
    "# being good enough to show in a presentation, however\n",
    "df2.groupby(['id', 'Feeling']).sum().unstack().plot(kind='bar', stacked=True);"
   ]
  },
  {
   "cell_type": "markdown",
   "id": "beb34e0e",
   "metadata": {},
   "source": [
    "> Note: [format](https://stackoverflow.com/questions/31357611/format-y-axis-as-percent) y axis as percent."
   ]
  },
  {
   "cell_type": "code",
   "execution_count": 10,
   "id": "b89e9bb3",
   "metadata": {},
   "outputs": [
    {
     "data": {
      "image/png": "[encoded data removed]",
      "text/plain": [
       "<Figure size 432x288 with 1 Axes>"
      ]
     },
     "metadata": {
      "needs_background": "light"
     },
     "output_type": "display_data"
    }
   ],
   "source": [
    "# in this version, I used a sequential color map\n",
    "# I could've used a diverging one too, especially considering\n",
    "# this uses a Likert scale, but then I'd need a background color too,\n",
    "# since the middle category would turn white\n",
    "total = df2.groupby(['id', 'Feeling']).sum().unstack()\n",
    "\n",
    "ax = total.plot(kind='bar', stacked=True, cmap='cividis_r')\n",
    "ax.yaxis.set_major_formatter(mtick.PercentFormatter())\n",
    "ax.spines[['left', 'top', 'right']].set_visible(False)\n",
    "plt.xticks(rotation=0)\n",
    "plt.legend(loc=6, bbox_to_anchor=(1.0, 0.5))\n",
    "plt.xlabel('')\n",
    "plt.ylabel('')\n",
    "plt.title('Student interest in science', fontsize=15);"
   ]
  },
  {
   "cell_type": "markdown",
   "id": "1d71e00b",
   "metadata": {},
   "source": [
    "> Note: `df.reindex()` [documentation](https://pandas.pydata.org/docs/reference/api/pandas.DataFrame.reindex.html)"
   ]
  },
  {
   "cell_type": "code",
   "execution_count": 11,
   "id": "a36c26c4",
   "metadata": {},
   "outputs": [
    {
     "data": {
      "text/html": [
       "<div>\n",
       "<style scoped>\n",
       "    .dataframe tbody tr th:only-of-type {\n",
       "        vertical-align: middle;\n",
       "    }\n",
       "\n",
       "    .dataframe tbody tr th {\n",
       "        vertical-align: top;\n",
       "    }\n",
       "\n",
       "    .dataframe thead tr th {\n",
       "        text-align: left;\n",
       "    }\n",
       "\n",
       "    .dataframe thead tr:last-of-type th {\n",
       "        text-align: right;\n",
       "    }\n",
       "</style>\n",
       "<table border=\"1\" class=\"dataframe\">\n",
       "  <thead>\n",
       "    <tr>\n",
       "      <th></th>\n",
       "      <th colspan=\"5\" halign=\"left\">Percent</th>\n",
       "    </tr>\n",
       "    <tr>\n",
       "      <th>Feeling</th>\n",
       "      <th>Bored</th>\n",
       "      <th>Not Great</th>\n",
       "      <th>OK</th>\n",
       "      <th>Kind of Interested</th>\n",
       "      <th>Excited</th>\n",
       "    </tr>\n",
       "    <tr>\n",
       "      <th>id</th>\n",
       "      <th></th>\n",
       "      <th></th>\n",
       "      <th></th>\n",
       "      <th></th>\n",
       "      <th></th>\n",
       "    </tr>\n",
       "  </thead>\n",
       "  <tbody>\n",
       "    <tr>\n",
       "      <th>Before</th>\n",
       "      <td>11</td>\n",
       "      <td>5</td>\n",
       "      <td>40</td>\n",
       "      <td>25</td>\n",
       "      <td>19</td>\n",
       "    </tr>\n",
       "    <tr>\n",
       "      <th>After</th>\n",
       "      <td>12</td>\n",
       "      <td>6</td>\n",
       "      <td>14</td>\n",
       "      <td>30</td>\n",
       "      <td>38</td>\n",
       "    </tr>\n",
       "  </tbody>\n",
       "</table>\n",
       "</div>"
      ],
      "text/plain": [
       "        Percent                                         \n",
       "Feeling   Bored Not Great  OK Kind of Interested Excited\n",
       "id                                                      \n",
       "Before       11         5  40                 25      19\n",
       "After        12         6  14                 30      38"
      ]
     },
     "execution_count": 11,
     "metadata": {},
     "output_type": "execute_result"
    }
   ],
   "source": [
    "# use df.reindex() to force Before as the first bar\n",
    "new_index = ['Before', 'After']\n",
    "total = total.reindex(new_index)\n",
    "total"
   ]
  },
  {
   "cell_type": "markdown",
   "id": "8362b947",
   "metadata": {},
   "source": [
    "> Note1: stacked bar chart [with value](https://pythonguides.com/stacked-bar-chart-matplotlib/)\n",
    "\n",
    "> Note2: annotation [examples](https://queirozf.com/entries/add-labels-and-text-to-matplotlib-plots-annotation-examples)"
   ]
  },
  {
   "cell_type": "code",
   "execution_count": 12,
   "id": "0b8abbfd",
   "metadata": {},
   "outputs": [
    {
     "data": {
      "image/png": "[encoded data removed]",
      "text/plain": [
       "<Figure size 432x288 with 1 Axes>"
      ]
     },
     "metadata": {
      "needs_background": "light"
     },
     "output_type": "display_data"
    }
   ],
   "source": [
    "# in this version, I managed to add the annotation with \n",
    "# the percentage for each section of the bars,\n",
    "# I also improved the legend\n",
    "\n",
    "ax = total.plot(kind='bar', stacked=True, cmap='cividis_r')\n",
    "# ax.yaxis.set_major_formatter(mtick.PercentFormatter()) # reduntant now that I removed the yaxis\n",
    "ax.spines[['left', 'top', 'right']].set_visible(False)\n",
    "ax.get_yaxis().set_visible(False)\n",
    "plt.xticks(rotation=0)\n",
    "plt.legend(['Bored', 'Not Great', 'OK', 'Kind of Interested', 'Excited'], loc=6, bbox_to_anchor=(1.0, 0.5))\n",
    "plt.xlabel('')\n",
    "plt.ylabel('')\n",
    "plt.title('Student interest in science', fontsize=15)\n",
    "\n",
    "for bar in ax.patches:\n",
    "    height = bar.get_height()\n",
    "    width = bar.get_width()\n",
    "    x = bar.get_x()\n",
    "    y = bar.get_y()\n",
    "    label_text = height\n",
    "    label_x = x + width / 2\n",
    "    label_y = y + height / 2\n",
    "    ax.text(label_x, label_y, \"{:.0f}%\".format(label_text), ha='center',    \n",
    "            va='center', color='white', fontweight='bold')"
   ]
  }
 ],
 "metadata": {
  "kernelspec": {
   "display_name": "Python [conda env:dand] *",
   "language": "python",
   "name": "conda-env-dand-py"
  },
  "language_info": {
   "codemirror_mode": {
    "name": "ipython",
    "version": 3
   },
   "file_extension": ".py",
   "mimetype": "text/x-python",
   "name": "python",
   "nbconvert_exporter": "python",
   "pygments_lexer": "ipython3",
   "version": "3.8.12"
  }
 },
 "nbformat": 4,
 "nbformat_minor": 5
}
