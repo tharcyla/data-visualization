{
 "cells": [
  {
   "cell_type": "markdown",
   "id": "48d245b6",
   "metadata": {},
   "source": [
    "# Explanatory Visualizations\n",
    "---\n",
    "\n",
    "## Overview\n",
    "In this lesson, we will learn about explanatory analysis which is about conveying and communicating the findings. You will learn:\n",
    "\n",
    "- Steps to tell a story using data\n",
    "- Tools and techniques to polish plots\n",
    "- Presenting findings using a slide deck\n",
    "- Getting and using feedback\n",
    "\n",
    "The previous three lessons in the course have been focused on expl**o**ratory analyses. In phases with exploratory visualizations, the primary audience for the visuals will be you, the analyst. The plots that have been created and demonstrated haven't been particularly polished, just descriptive enough for you to gain insights into the data.\n",
    "\n",
    "This lesson is focused on taking those insights and creating expl**an**atory analyses. Here, your audience will be broader: your goal will be to convey your findings to other people who don't have the level of hands-on experience with the data as you. Visualizations under this banner should be focused on telling a specific story that you want to convey to that particular audience. Many times, these visualizations evolve from visuals created during the exploratory process, just polished up to highlight the specific intended insights. These highlights might change depending on the audience you're presenting to. You'll revisit those design concepts from earlier in the course to make your plots informative not just for yourself, but also compelling and understandable for others.\n",
    "\n",
    "## Tell a Story\n",
    "Telling stories with data follows these steps:\n",
    "\n",
    "- Start with a Question\n",
    "- Repetition is a Good Thing\n",
    "- Highlight the Answer\n",
    "- Call Your Audience To Action"
   ]
  },
  {
   "cell_type": "code",
   "execution_count": 1,
   "id": "bfb9bcd4",
   "metadata": {},
   "outputs": [],
   "source": [
    "import numpy as np\n",
    "import pandas as pd\n",
    "import matplotlib.pyplot as plt\n",
    "import matplotlib.patches as mpatches\n",
    "import seaborn as sns\n",
    "\n",
    "%matplotlib inline"
   ]
  },
  {
   "cell_type": "code",
   "execution_count": 2,
   "id": "216c4650",
   "metadata": {},
   "outputs": [
    {
     "data": {
      "text/html": [
       "<div>\n",
       "<style scoped>\n",
       "    .dataframe tbody tr th:only-of-type {\n",
       "        vertical-align: middle;\n",
       "    }\n",
       "\n",
       "    .dataframe tbody tr th {\n",
       "        vertical-align: top;\n",
       "    }\n",
       "\n",
       "    .dataframe thead th {\n",
       "        text-align: right;\n",
       "    }\n",
       "</style>\n",
       "<table border=\"1\" class=\"dataframe\">\n",
       "  <thead>\n",
       "    <tr style=\"text-align: right;\">\n",
       "      <th></th>\n",
       "      <th>Feeling</th>\n",
       "      <th>Percent</th>\n",
       "      <th>Feeling.1</th>\n",
       "      <th>Percent.1</th>\n",
       "    </tr>\n",
       "  </thead>\n",
       "  <tbody>\n",
       "    <tr>\n",
       "      <th>0</th>\n",
       "      <td>Bored</td>\n",
       "      <td>11</td>\n",
       "      <td>Bored</td>\n",
       "      <td>12</td>\n",
       "    </tr>\n",
       "    <tr>\n",
       "      <th>1</th>\n",
       "      <td>Not Great</td>\n",
       "      <td>5</td>\n",
       "      <td>Not Great</td>\n",
       "      <td>6</td>\n",
       "    </tr>\n",
       "    <tr>\n",
       "      <th>2</th>\n",
       "      <td>OK</td>\n",
       "      <td>40</td>\n",
       "      <td>OK</td>\n",
       "      <td>14</td>\n",
       "    </tr>\n",
       "    <tr>\n",
       "      <th>3</th>\n",
       "      <td>Kind of Interested</td>\n",
       "      <td>25</td>\n",
       "      <td>Kind of Interested</td>\n",
       "      <td>30</td>\n",
       "    </tr>\n",
       "    <tr>\n",
       "      <th>4</th>\n",
       "      <td>Excited</td>\n",
       "      <td>19</td>\n",
       "      <td>Excited</td>\n",
       "      <td>38</td>\n",
       "    </tr>\n",
       "  </tbody>\n",
       "</table>\n",
       "</div>"
      ],
      "text/plain": [
       "              Feeling  Percent           Feeling.1  Percent.1\n",
       "0               Bored       11               Bored         12\n",
       "1           Not Great        5           Not Great          6\n",
       "2                  OK       40                  OK         14\n",
       "3  Kind of Interested       25  Kind of Interested         30\n",
       "4             Excited       19             Excited         38"
      ]
     },
     "execution_count": 2,
     "metadata": {},
     "output_type": "execute_result"
    }
   ],
   "source": [
    "df = pd.read_csv('support-files/06_Explanatory-Vis/data-storytelling-practice.csv', sep=';')\n",
    "df.head()"
   ]
  },
  {
   "cell_type": "code",
   "execution_count": 3,
   "id": "1704886c",
   "metadata": {},
   "outputs": [
    {
     "data": {
      "text/html": [
       "<div>\n",
       "<style scoped>\n",
       "    .dataframe tbody tr th:only-of-type {\n",
       "        vertical-align: middle;\n",
       "    }\n",
       "\n",
       "    .dataframe tbody tr th {\n",
       "        vertical-align: top;\n",
       "    }\n",
       "\n",
       "    .dataframe thead th {\n",
       "        text-align: right;\n",
       "    }\n",
       "</style>\n",
       "<table border=\"1\" class=\"dataframe\">\n",
       "  <thead>\n",
       "    <tr style=\"text-align: right;\">\n",
       "      <th></th>\n",
       "      <th>Feeling</th>\n",
       "      <th>Before</th>\n",
       "      <th>Feeling.1</th>\n",
       "      <th>After</th>\n",
       "    </tr>\n",
       "  </thead>\n",
       "  <tbody>\n",
       "    <tr>\n",
       "      <th>0</th>\n",
       "      <td>Bored</td>\n",
       "      <td>11</td>\n",
       "      <td>Bored</td>\n",
       "      <td>12</td>\n",
       "    </tr>\n",
       "    <tr>\n",
       "      <th>1</th>\n",
       "      <td>Not Great</td>\n",
       "      <td>5</td>\n",
       "      <td>Not Great</td>\n",
       "      <td>6</td>\n",
       "    </tr>\n",
       "    <tr>\n",
       "      <th>2</th>\n",
       "      <td>OK</td>\n",
       "      <td>40</td>\n",
       "      <td>OK</td>\n",
       "      <td>14</td>\n",
       "    </tr>\n",
       "    <tr>\n",
       "      <th>3</th>\n",
       "      <td>Kind of Interested</td>\n",
       "      <td>25</td>\n",
       "      <td>Kind of Interested</td>\n",
       "      <td>30</td>\n",
       "    </tr>\n",
       "    <tr>\n",
       "      <th>4</th>\n",
       "      <td>Excited</td>\n",
       "      <td>19</td>\n",
       "      <td>Excited</td>\n",
       "      <td>38</td>\n",
       "    </tr>\n",
       "  </tbody>\n",
       "</table>\n",
       "</div>"
      ],
      "text/plain": [
       "              Feeling  Before           Feeling.1  After\n",
       "0               Bored      11               Bored     12\n",
       "1           Not Great       5           Not Great      6\n",
       "2                  OK      40                  OK     14\n",
       "3  Kind of Interested      25  Kind of Interested     30\n",
       "4             Excited      19             Excited     38"
      ]
     },
     "execution_count": 3,
     "metadata": {},
     "output_type": "execute_result"
    }
   ],
   "source": [
    "df2 = df.copy()\n",
    "df2 = df.rename(columns={'Percent': 'Before', 'Percent.1': 'After'})\n",
    "df2.head(10)"
   ]
  },
  {
   "cell_type": "code",
   "execution_count": 4,
   "id": "29042439",
   "metadata": {},
   "outputs": [
    {
     "data": {
      "text/html": [
       "<div>\n",
       "<style scoped>\n",
       "    .dataframe tbody tr th:only-of-type {\n",
       "        vertical-align: middle;\n",
       "    }\n",
       "\n",
       "    .dataframe tbody tr th {\n",
       "        vertical-align: top;\n",
       "    }\n",
       "\n",
       "    .dataframe thead th {\n",
       "        text-align: right;\n",
       "    }\n",
       "</style>\n",
       "<table border=\"1\" class=\"dataframe\">\n",
       "  <thead>\n",
       "    <tr style=\"text-align: right;\">\n",
       "      <th></th>\n",
       "      <th>Feeling</th>\n",
       "      <th>id</th>\n",
       "      <th>Percent</th>\n",
       "    </tr>\n",
       "  </thead>\n",
       "  <tbody>\n",
       "    <tr>\n",
       "      <th>0</th>\n",
       "      <td>Bored</td>\n",
       "      <td>Before</td>\n",
       "      <td>11</td>\n",
       "    </tr>\n",
       "    <tr>\n",
       "      <th>1</th>\n",
       "      <td>Not Great</td>\n",
       "      <td>Before</td>\n",
       "      <td>5</td>\n",
       "    </tr>\n",
       "    <tr>\n",
       "      <th>2</th>\n",
       "      <td>OK</td>\n",
       "      <td>Before</td>\n",
       "      <td>40</td>\n",
       "    </tr>\n",
       "    <tr>\n",
       "      <th>3</th>\n",
       "      <td>Kind of Interested</td>\n",
       "      <td>Before</td>\n",
       "      <td>25</td>\n",
       "    </tr>\n",
       "    <tr>\n",
       "      <th>4</th>\n",
       "      <td>Excited</td>\n",
       "      <td>Before</td>\n",
       "      <td>19</td>\n",
       "    </tr>\n",
       "    <tr>\n",
       "      <th>5</th>\n",
       "      <td>Bored</td>\n",
       "      <td>After</td>\n",
       "      <td>12</td>\n",
       "    </tr>\n",
       "    <tr>\n",
       "      <th>6</th>\n",
       "      <td>Not Great</td>\n",
       "      <td>After</td>\n",
       "      <td>6</td>\n",
       "    </tr>\n",
       "    <tr>\n",
       "      <th>7</th>\n",
       "      <td>OK</td>\n",
       "      <td>After</td>\n",
       "      <td>14</td>\n",
       "    </tr>\n",
       "    <tr>\n",
       "      <th>8</th>\n",
       "      <td>Kind of Interested</td>\n",
       "      <td>After</td>\n",
       "      <td>30</td>\n",
       "    </tr>\n",
       "    <tr>\n",
       "      <th>9</th>\n",
       "      <td>Excited</td>\n",
       "      <td>After</td>\n",
       "      <td>38</td>\n",
       "    </tr>\n",
       "  </tbody>\n",
       "</table>\n",
       "</div>"
      ],
      "text/plain": [
       "              Feeling      id  Percent\n",
       "0               Bored  Before       11\n",
       "1           Not Great  Before        5\n",
       "2                  OK  Before       40\n",
       "3  Kind of Interested  Before       25\n",
       "4             Excited  Before       19\n",
       "5               Bored   After       12\n",
       "6           Not Great   After        6\n",
       "7                  OK   After       14\n",
       "8  Kind of Interested   After       30\n",
       "9             Excited   After       38"
      ]
     },
     "execution_count": 4,
     "metadata": {},
     "output_type": "execute_result"
    }
   ],
   "source": [
    "df2 = pd.melt(df2, id_vars=['Feeling'], value_vars=['Before', 'After'], value_name='Percent', var_name='id')\n",
    "df2.head(10)"
   ]
  },
  {
   "cell_type": "code",
   "execution_count": 5,
   "id": "6606515f",
   "metadata": {},
   "outputs": [],
   "source": [
    "feeling_classes = ['Bored', 'Not Great', 'OK', 'Kind of Interested', 'Excited']\n",
    "feeling_classes = pd.api.types.CategoricalDtype(ordered=True, categories=feeling_classes)\n",
    "df2['Feeling'] = df2['Feeling'].astype(feeling_classes)"
   ]
  },
  {
   "cell_type": "code",
   "execution_count": 6,
   "id": "aee8d464",
   "metadata": {},
   "outputs": [
    {
     "data": {
      "image/png": "[encoded data removed]",
      "text/plain": [
       "<Figure size 432x288 with 1 Axes>"
      ]
     },
     "metadata": {
      "needs_background": "light"
     },
     "output_type": "display_data"
    }
   ],
   "source": [
    "bar1 = sns.barplot(data=df, y='Feeling.1', x='Percent.1', color=sns.color_palette('Pastel1')[0])\n",
    "bar2 = sns.barplot(data=df, y='Feeling', x='Percent', color=sns.color_palette('Pastel1')[1])\n",
    "\n",
    "top_bar = mpatches.Patch(color=sns.color_palette('Pastel1')[0], label='After')\n",
    "bottom_bar = mpatches.Patch(color=sns.color_palette('Pastel1')[1], label='Before')\n",
    "plt.legend(handles=[top_bar, bottom_bar]);"
   ]
  },
  {
   "cell_type": "code",
   "execution_count": 7,
   "id": "9e1cb07e",
   "metadata": {},
   "outputs": [
    {
     "data": {
      "image/png": "[encoded data removed]",
      "text/plain": [
       "<Figure size 432x288 with 1 Axes>"
      ]
     },
     "metadata": {
      "needs_background": "light"
     },
     "output_type": "display_data"
    }
   ],
   "source": [
    "bar1 = sns.barplot(data=df, x='Feeling.1', y='Percent.1', color=sns.color_palette('Pastel1')[0])\n",
    "bar2 = sns.barplot(data=df, x='Feeling', y='Percent', color=sns.color_palette('Pastel1')[1])\n",
    "\n",
    "top_bar = mpatches.Patch(color=sns.color_palette('Pastel1')[0], label='After')\n",
    "bottom_bar = mpatches.Patch(color=sns.color_palette('Pastel1')[1], label='Before')\n",
    "plt.legend(handles=[top_bar, bottom_bar])\n",
    "plt.xticks(rotation=15);"
   ]
  },
  {
   "cell_type": "code",
   "execution_count": 8,
   "id": "74db2b56",
   "metadata": {},
   "outputs": [
    {
     "data": {
      "text/html": [
       "<svg  width=\"550\" height=\"55\"><rect x=\"0\" y=\"0\" width=\"55\" height=\"55\" style=\"fill:#1f77b4;stroke-width:2;stroke:rgb(255,255,255)\"/><rect x=\"55\" y=\"0\" width=\"55\" height=\"55\" style=\"fill:#ff7f0e;stroke-width:2;stroke:rgb(255,255,255)\"/><rect x=\"110\" y=\"0\" width=\"55\" height=\"55\" style=\"fill:#2ca02c;stroke-width:2;stroke:rgb(255,255,255)\"/><rect x=\"165\" y=\"0\" width=\"55\" height=\"55\" style=\"fill:#d62728;stroke-width:2;stroke:rgb(255,255,255)\"/><rect x=\"220\" y=\"0\" width=\"55\" height=\"55\" style=\"fill:#9467bd;stroke-width:2;stroke:rgb(255,255,255)\"/><rect x=\"275\" y=\"0\" width=\"55\" height=\"55\" style=\"fill:#8c564b;stroke-width:2;stroke:rgb(255,255,255)\"/><rect x=\"330\" y=\"0\" width=\"55\" height=\"55\" style=\"fill:#e377c2;stroke-width:2;stroke:rgb(255,255,255)\"/><rect x=\"385\" y=\"0\" width=\"55\" height=\"55\" style=\"fill:#7f7f7f;stroke-width:2;stroke:rgb(255,255,255)\"/><rect x=\"440\" y=\"0\" width=\"55\" height=\"55\" style=\"fill:#bcbd22;stroke-width:2;stroke:rgb(255,255,255)\"/><rect x=\"495\" y=\"0\" width=\"55\" height=\"55\" style=\"fill:#17becf;stroke-width:2;stroke:rgb(255,255,255)\"/></svg>"
      ],
      "text/plain": [
       "[(0.12156862745098039, 0.4666666666666667, 0.7058823529411765),\n",
       " (1.0, 0.4980392156862745, 0.054901960784313725),\n",
       " (0.17254901960784313, 0.6274509803921569, 0.17254901960784313),\n",
       " (0.8392156862745098, 0.15294117647058825, 0.1568627450980392),\n",
       " (0.5803921568627451, 0.403921568627451, 0.7411764705882353),\n",
       " (0.5490196078431373, 0.33725490196078434, 0.29411764705882354),\n",
       " (0.8901960784313725, 0.4666666666666667, 0.7607843137254902),\n",
       " (0.4980392156862745, 0.4980392156862745, 0.4980392156862745),\n",
       " (0.7372549019607844, 0.7411764705882353, 0.13333333333333333),\n",
       " (0.09019607843137255, 0.7450980392156863, 0.8117647058823529)]"
      ]
     },
     "execution_count": 8,
     "metadata": {},
     "output_type": "execute_result"
    }
   ],
   "source": [
    "sns.color_palette()"
   ]
  },
  {
   "cell_type": "code",
   "execution_count": 9,
   "id": "72496a17",
   "metadata": {},
   "outputs": [
    {
     "data": {
      "image/png": "[encoded data removed]",
      "text/plain": [
       "<Figure size 432x288 with 1 Axes>"
      ]
     },
     "metadata": {
      "needs_background": "light"
     },
     "output_type": "display_data"
    }
   ],
   "source": [
    "bar3 = sns.barplot(data=df2, x='id', y='Percent', hue='Feeling')"
   ]
  },
  {
   "cell_type": "markdown",
   "id": "e9b9df24",
   "metadata": {},
   "source": [
    "> Note: [Discussion](https://stackoverflow.com/questions/34917727/stacked-bar-plot-by-grouped-data-with-pandas) on StackOverflow that helped me create the chart like the one below."
   ]
  },
  {
   "cell_type": "code",
   "execution_count": 11,
   "id": "eda44f8d",
   "metadata": {},
   "outputs": [
    {
     "data": {
      "image/png": "[encoded data removed]",
      "text/plain": [
       "<Figure size 432x288 with 1 Axes>"
      ]
     },
     "metadata": {
      "needs_background": "light"
     },
     "output_type": "display_data"
    }
   ],
   "source": [
    "df2.groupby(['id', 'Feeling']).sum().unstack().plot(kind='bar', stacked=True)\n",
    "plt.xticks(rotation=0)\n",
    "plt.legend(loc=6, bbox_to_anchor=(1.0, 0.5))\n",
    "plt.xlabel('Feeling')\n",
    "plt.ylabel('Percentage')\n",
    "plt.title('Student interest in science');"
   ]
  }
 ],
 "metadata": {
  "kernelspec": {
   "display_name": "Python [conda env:dand] *",
   "language": "python",
   "name": "conda-env-dand-py"
  },
  "language_info": {
   "codemirror_mode": {
    "name": "ipython",
    "version": 3
   },
   "file_extension": ".py",
   "mimetype": "text/x-python",
   "name": "python",
   "nbconvert_exporter": "python",
   "pygments_lexer": "ipython3",
   "version": "3.8.12"
  }
 },
 "nbformat": 4,
 "nbformat_minor": 5
}
