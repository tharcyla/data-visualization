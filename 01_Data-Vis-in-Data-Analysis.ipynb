{
 "cells": [
  {
   "cell_type": "markdown",
   "id": "504be1b8",
   "metadata": {},
   "source": [
    "# Data Visualization in Data Analysis\n",
    "\n",
    "## Exploratory vs. Explanatory Analyses\n",
    "\n",
    "There are two main reasons for creating visuals using data:\n",
    "\n",
    "**`1.` Exploratory analysis** is done when you are searching for insights. These visualizations don't need to be perfect. You are using plots to find insights, but they don't need to be aesthetically appealing. You are the consumer of these plots, and you need to be able to find the answer to your questions from these plots.\n",
    "\n",
    "**`2.` Explanatory analysis** is done when you are providing your results for others. These visualizations need to provide you the emphasis necessary to convey your message. They should be accurate, insightful, and visually appealing.\n",
    "\n",
    "The five steps of the data analysis process:\n",
    "\n",
    "1. **Extract** - Obtain the data from a spreadsheet, SQL, the web, etc.\n",
    "2. **Clea** - Here, we could use exploratory visuals.\n",
    "3. **Explore** - Here, we use exploratory visuals.\n",
    "4. **Analyze** - Here, we might use either exploratory or explanatory visuals.\n",
    "5. **Share** - Here is where explanatory visuals live.\n",
    "\n",
    "## Python Data Visualization Libraries\n",
    "\n",
    "- [Matplotlib](https://matplotlib.org/): a versatile library for visualizations, but it can take some coding effort to put together common visualizations.\n",
    "- [Seaborn](https://seaborn.pydata.org/): built on top of matplotlib, adds a number of functions to make common statistical visualizations easier to generate.\n",
    "- [pandas](https://pandas.pydata.org/): while this library includes some convenient methods for visualizing data that hook into matplotlib, we'll mainly use it for its main purpose as a general tool for working with data.\n",
    "\n",
    "All together, these libraries allows the user to visualize data in a balance of productivity and flexibility for both exploratory and explanatory analyses.\n",
    "\n",
    "## Course Structure\n",
    "\n",
    "**`Lesson 1`:** Data Visualization in Data Analysis\n",
    "\n",
    "**`Lesson 2`**: Design of Visualizations\n",
    "\n",
    "**`Lessons 3-5`**: Exploration of Data\n",
    "\n",
    "**`Lesson 6`**: Explanatory Visualizations\n",
    "\n",
    "**`Lesson 7`**: Visualization Case Study"
   ]
  }
 ],
 "metadata": {
  "kernelspec": {
   "display_name": "Python [conda env:dand] *",
   "language": "python",
   "name": "conda-env-dand-py"
  },
  "language_info": {
   "codemirror_mode": {
    "name": "ipython",
    "version": 3
   },
   "file_extension": ".py",
   "mimetype": "text/x-python",
   "name": "python",
   "nbconvert_exporter": "python",
   "pygments_lexer": "ipython3",
   "version": "3.8.12"
  }
 },
 "nbformat": 4,
 "nbformat_minor": 5
}
